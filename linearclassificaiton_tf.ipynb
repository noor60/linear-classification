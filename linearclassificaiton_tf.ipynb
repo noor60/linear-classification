{
  "nbformat": 4,
  "nbformat_minor": 0,
  "metadata": {
    "colab": {
      "name": "linearclassificaiton_tf.ipynb",
      "provenance": [],
      "collapsed_sections": [],
      "authorship_tag": "ABX9TyN8wqRVsymR/xs9kcgwFgrd",
      "include_colab_link": true
    },
    "kernelspec": {
      "name": "python3",
      "display_name": "Python 3"
    }
  },
  "cells": [
    {
      "cell_type": "markdown",
      "metadata": {
        "id": "view-in-github",
        "colab_type": "text"
      },
      "source": [
        "<a href=\"https://colab.research.google.com/github/noor60/linear-classification/blob/main/linearclassificaiton_tf.ipynb\" target=\"_parent\"><img src=\"https://colab.research.google.com/assets/colab-badge.svg\" alt=\"Open In Colab\"/></a>"
      ]
    },
    {
      "cell_type": "code",
      "metadata": {
        "id": "nueDaOJUvUwd"
      },
      "source": [
        ""
      ],
      "execution_count": null,
      "outputs": []
    },
    {
      "cell_type": "code",
      "metadata": {
        "id": "glOdL3HWwTql"
      },
      "source": [
        "import tensorflow as tf"
      ],
      "execution_count": null,
      "outputs": []
    },
    {
      "cell_type": "code",
      "metadata": {
        "colab": {
          "base_uri": "https://localhost:8080/"
        },
        "id": "oSyG2wJ6wagN",
        "outputId": "8fb928f4-b978-473c-c2cd-ea5611e209a6"
      },
      "source": [
        "print(tf.__version__)"
      ],
      "execution_count": null,
      "outputs": [
        {
          "output_type": "stream",
          "text": [
            "2.4.1\n"
          ],
          "name": "stdout"
        }
      ]
    },
    {
      "cell_type": "code",
      "metadata": {
        "id": "wSWhRa81wiHK"
      },
      "source": [
        "from sklearn.datasets import load_breast_cancer"
      ],
      "execution_count": null,
      "outputs": []
    },
    {
      "cell_type": "code",
      "metadata": {
        "id": "_oBKHI_pw0v4"
      },
      "source": [
        "data = load_breast_cancer()"
      ],
      "execution_count": null,
      "outputs": []
    },
    {
      "cell_type": "code",
      "metadata": {
        "colab": {
          "base_uri": "https://localhost:8080/"
        },
        "id": "qULln4BCw5R9",
        "outputId": "a31b8640-1b9c-4691-ecab-bf3867ac473f"
      },
      "source": [
        "type(data) # bunch is an object it basically acts like a dictionalry where you can treat keys as atributes"
      ],
      "execution_count": null,
      "outputs": [
        {
          "output_type": "execute_result",
          "data": {
            "text/plain": [
              "sklearn.utils.Bunch"
            ]
          },
          "metadata": {
            "tags": []
          },
          "execution_count": 6
        }
      ]
    },
    {
      "cell_type": "code",
      "metadata": {
        "colab": {
          "base_uri": "https://localhost:8080/"
        },
        "id": "P83DR9eexQRu",
        "outputId": "5565379e-efc8-412d-fe02-5a9b83418258"
      },
      "source": [
        "data.keys() # data refers to input x data target is y "
      ],
      "execution_count": null,
      "outputs": [
        {
          "output_type": "execute_result",
          "data": {
            "text/plain": [
              "dict_keys(['data', 'target', 'target_names', 'DESCR', 'feature_names', 'filename'])"
            ]
          },
          "metadata": {
            "tags": []
          },
          "execution_count": 7
        }
      ]
    },
    {
      "cell_type": "code",
      "metadata": {
        "id": "JTIaWVcry9b_"
      },
      "source": [
        ""
      ],
      "execution_count": null,
      "outputs": []
    },
    {
      "cell_type": "code",
      "metadata": {
        "colab": {
          "base_uri": "https://localhost:8080/"
        },
        "id": "CtEdMTyZx_PB",
        "outputId": "dfaced29-b068-41de-c50c-a73acdcd5e31"
      },
      "source": [
        "data.data.shape #to check shape of x it has 569 samples and 30 features"
      ],
      "execution_count": null,
      "outputs": [
        {
          "output_type": "execute_result",
          "data": {
            "text/plain": [
              "(569, 30)"
            ]
          },
          "metadata": {
            "tags": []
          },
          "execution_count": 8
        }
      ]
    },
    {
      "cell_type": "code",
      "metadata": {
        "colab": {
          "base_uri": "https://localhost:8080/"
        },
        "id": "Z-v9nsvjyVXf",
        "outputId": "81e97db8-9b74-43ff-be8a-120c0ab75239"
      },
      "source": [
        "data.target # 1 dimentional array"
      ],
      "execution_count": null,
      "outputs": [
        {
          "output_type": "execute_result",
          "data": {
            "text/plain": [
              "array([0, 0, 0, 0, 0, 0, 0, 0, 0, 0, 0, 0, 0, 0, 0, 0, 0, 0, 0, 1, 1, 1,\n",
              "       0, 0, 0, 0, 0, 0, 0, 0, 0, 0, 0, 0, 0, 0, 0, 1, 0, 0, 0, 0, 0, 0,\n",
              "       0, 0, 1, 0, 1, 1, 1, 1, 1, 0, 0, 1, 0, 0, 1, 1, 1, 1, 0, 1, 0, 0,\n",
              "       1, 1, 1, 1, 0, 1, 0, 0, 1, 0, 1, 0, 0, 1, 1, 1, 0, 0, 1, 0, 0, 0,\n",
              "       1, 1, 1, 0, 1, 1, 0, 0, 1, 1, 1, 0, 0, 1, 1, 1, 1, 0, 1, 1, 0, 1,\n",
              "       1, 1, 1, 1, 1, 1, 1, 0, 0, 0, 1, 0, 0, 1, 1, 1, 0, 0, 1, 0, 1, 0,\n",
              "       0, 1, 0, 0, 1, 1, 0, 1, 1, 0, 1, 1, 1, 1, 0, 1, 1, 1, 1, 1, 1, 1,\n",
              "       1, 1, 0, 1, 1, 1, 1, 0, 0, 1, 0, 1, 1, 0, 0, 1, 1, 0, 0, 1, 1, 1,\n",
              "       1, 0, 1, 1, 0, 0, 0, 1, 0, 1, 0, 1, 1, 1, 0, 1, 1, 0, 0, 1, 0, 0,\n",
              "       0, 0, 1, 0, 0, 0, 1, 0, 1, 0, 1, 1, 0, 1, 0, 0, 0, 0, 1, 1, 0, 0,\n",
              "       1, 1, 1, 0, 1, 1, 1, 1, 1, 0, 0, 1, 1, 0, 1, 1, 0, 0, 1, 0, 1, 1,\n",
              "       1, 1, 0, 1, 1, 1, 1, 1, 0, 1, 0, 0, 0, 0, 0, 0, 0, 0, 0, 0, 0, 0,\n",
              "       0, 0, 1, 1, 1, 1, 1, 1, 0, 1, 0, 1, 1, 0, 1, 1, 0, 1, 0, 0, 1, 1,\n",
              "       1, 1, 1, 1, 1, 1, 1, 1, 1, 1, 1, 0, 1, 1, 0, 1, 0, 1, 1, 1, 1, 1,\n",
              "       1, 1, 1, 1, 1, 1, 1, 1, 1, 0, 1, 1, 1, 0, 1, 0, 1, 1, 1, 1, 0, 0,\n",
              "       0, 1, 1, 1, 1, 0, 1, 0, 1, 0, 1, 1, 1, 0, 1, 1, 1, 1, 1, 1, 1, 0,\n",
              "       0, 0, 1, 1, 1, 1, 1, 1, 1, 1, 1, 1, 1, 0, 0, 1, 0, 0, 0, 1, 0, 0,\n",
              "       1, 1, 1, 1, 1, 0, 1, 1, 1, 1, 1, 0, 1, 1, 1, 0, 1, 1, 0, 0, 1, 1,\n",
              "       1, 1, 1, 1, 0, 1, 1, 1, 1, 1, 1, 1, 0, 1, 1, 1, 1, 1, 0, 1, 1, 0,\n",
              "       1, 1, 1, 1, 1, 1, 1, 1, 1, 1, 1, 1, 0, 1, 0, 0, 1, 0, 1, 1, 1, 1,\n",
              "       1, 0, 1, 1, 0, 1, 0, 1, 1, 0, 1, 0, 1, 1, 1, 1, 1, 1, 1, 1, 0, 0,\n",
              "       1, 1, 1, 1, 1, 1, 0, 1, 1, 1, 1, 1, 1, 1, 1, 1, 1, 0, 1, 1, 1, 1,\n",
              "       1, 1, 1, 0, 1, 0, 1, 1, 0, 1, 1, 1, 1, 1, 0, 0, 1, 0, 1, 0, 1, 1,\n",
              "       1, 1, 1, 0, 1, 1, 0, 1, 0, 1, 0, 0, 1, 1, 1, 0, 1, 1, 1, 1, 1, 1,\n",
              "       1, 1, 1, 1, 1, 0, 1, 0, 0, 1, 1, 1, 1, 1, 1, 1, 1, 1, 1, 1, 1, 1,\n",
              "       1, 1, 1, 1, 1, 1, 1, 1, 1, 1, 1, 1, 0, 0, 0, 0, 0, 0, 1])"
            ]
          },
          "metadata": {
            "tags": []
          },
          "execution_count": 9
        }
      ]
    },
    {
      "cell_type": "code",
      "metadata": {
        "colab": {
          "base_uri": "https://localhost:8080/"
        },
        "id": "bknqoI5Lykzi",
        "outputId": "5994c128-1d9f-4343-a9cc-27b115959fc5"
      },
      "source": [
        "data.target_names.shape"
      ],
      "execution_count": null,
      "outputs": [
        {
          "output_type": "execute_result",
          "data": {
            "text/plain": [
              "(2,)"
            ]
          },
          "metadata": {
            "tags": []
          },
          "execution_count": 10
        }
      ]
    },
    {
      "cell_type": "code",
      "metadata": {
        "colab": {
          "base_uri": "https://localhost:8080/",
          "height": 35
        },
        "id": "0WK6IbFcy_Yj",
        "outputId": "da5ef044-f5db-49d1-e367-fd6e8b1afc04"
      },
      "source": [
        "data.DESCR\n",
        "data.feature_names #3o feature names of data\n",
        "data.filename"
      ],
      "execution_count": null,
      "outputs": [
        {
          "output_type": "execute_result",
          "data": {
            "application/vnd.google.colaboratory.intrinsic+json": {
              "type": "string"
            },
            "text/plain": [
              "'/usr/local/lib/python3.7/dist-packages/sklearn/datasets/data/breast_cancer.csv'"
            ]
          },
          "metadata": {
            "tags": []
          },
          "execution_count": 11
        }
      ]
    },
    {
      "cell_type": "code",
      "metadata": {
        "id": "KPi26LPwzj79"
      },
      "source": [
        "#now split data into test and train\n",
        "from sklearn.model_selection import train_test_split\n"
      ],
      "execution_count": null,
      "outputs": []
    },
    {
      "cell_type": "code",
      "metadata": {
        "id": "vXE96AkuHzpk"
      },
      "source": [
        "#split data into test \n",
        "X=data.data\n",
        "Y=data.target\n",
        "x_train, x_test, y_train, y_test =train_test_split(X,Y,test_size=0.30)"
      ],
      "execution_count": null,
      "outputs": []
    },
    {
      "cell_type": "code",
      "metadata": {
        "id": "o6q21RVDIVYX",
        "colab": {
          "base_uri": "https://localhost:8080/"
        },
        "outputId": "aeab9ca4-c251-48af-dbef-bbc21dca9329"
      },
      "source": [
        "#see out of 569 how many samples are in x trian\n",
        "N,D=x_train.shape\n",
        "print (N,D)"
      ],
      "execution_count": null,
      "outputs": [
        {
          "output_type": "stream",
          "text": [
            "398 30\n"
          ],
          "name": "stdout"
        }
      ]
    },
    {
      "cell_type": "code",
      "metadata": {
        "colab": {
          "base_uri": "https://localhost:8080/"
        },
        "id": "m5scCS1VId_n",
        "outputId": "8951589a-5807-4561-8138-2d406a970f03"
      },
      "source": [
        "#see out of 569 how many samples are in x trian\n",
        "x_test.shape"
      ],
      "execution_count": null,
      "outputs": [
        {
          "output_type": "execute_result",
          "data": {
            "text/plain": [
              "(171, 30)"
            ]
          },
          "metadata": {
            "tags": []
          },
          "execution_count": 15
        }
      ]
    },
    {
      "cell_type": "code",
      "metadata": {
        "colab": {
          "base_uri": "https://localhost:8080/"
        },
        "id": "hWt4iNSIIhdh",
        "outputId": "6bf471a0-6c78-4ba5-a4b5-5f8a9d61528d"
      },
      "source": [
        "#y trian == xtrain\n",
        "y_train.shape"
      ],
      "execution_count": null,
      "outputs": [
        {
          "output_type": "execute_result",
          "data": {
            "text/plain": [
              "(398,)"
            ]
          },
          "metadata": {
            "tags": []
          },
          "execution_count": 16
        }
      ]
    },
    {
      "cell_type": "code",
      "metadata": {
        "colab": {
          "base_uri": "https://localhost:8080/"
        },
        "id": "UP3hrc7NIwr5",
        "outputId": "6cd966c5-617c-4f78-dfed-3489066842d3"
      },
      "source": [
        "print(N,D)"
      ],
      "execution_count": null,
      "outputs": [
        {
          "output_type": "stream",
          "text": [
            "398 30\n"
          ],
          "name": "stdout"
        }
      ]
    },
    {
      "cell_type": "code",
      "metadata": {
        "id": "USyoxHpYI7rq"
      },
      "source": [
        ""
      ],
      "execution_count": null,
      "outputs": []
    },
    {
      "cell_type": "markdown",
      "metadata": {
        "id": "7cqiDCqMI8m_"
      },
      "source": [
        "SCALING DATA IS IMPORTAN IN DEEP LEARNING.the basic idea is that, since the output y islinear combination of the input x, you dont want one input to have a very large range e.g one input is i milion and other is 0.0001.when this happens then weights will be too sensitive when input has large range and not sensitive enough when input has small range. meaning weight will b ebiased towards larger numbers.so we do normalization/standardization z=x-u/standard deviatin. subtract by mean \n"
      ]
    },
    {
      "cell_type": "code",
      "metadata": {
        "id": "j_lwGXHkKjVK"
      },
      "source": [
        "from sklearn.preprocessing import StandardScaler\n",
        "scalar = StandardScaler()\n",
        "x_train = scalar.fit_transform(x_train)\n",
        "x_test = scalar.transform(x_test)"
      ],
      "execution_count": null,
      "outputs": []
    },
    {
      "cell_type": "code",
      "metadata": {
        "id": "FK9onNN2vgRa"
      },
      "source": [
        "#here starts our tensor flow work we first need to build model object whcih is sequential, takes list of two layer objects. input an ddense layer\n",
        "model = tf.keras.models.Sequential([\n",
        "                                    tf.keras.layers.Input(shape=(D,)), #PLACEHOLDER SPECIFY SIZE OF INPUT\n",
        "                                    tf.keras.layers.Dense(1, activation='sigmoid') #TAKESinput and does linear transformation tp get an output of size 1\n",
        "])                                                                                 #we apply igmoid that oututs are in range 0 and1"
      ],
      "execution_count": null,
      "outputs": []
    },
    {
      "cell_type": "code",
      "metadata": {
        "id": "t6b28F7J00kT"
      },
      "source": [
        "model.compile(\n",
        "    optimizer='adam',\n",
        "   loss='binary_crossentropy',\n",
        "    metrics=['accuracy']\n",
        "              )"
      ],
      "execution_count": null,
      "outputs": []
    },
    {
      "cell_type": "code",
      "metadata": {
        "colab": {
          "base_uri": "https://localhost:8080/"
        },
        "id": "1WafYlvD1skN",
        "outputId": "280f360f-e4f5-449c-a57b-c20dbd294f4b"
      },
      "source": [
        "#fitting model, model.fit returns an object that contain the data from trianing process\n",
        "r=model.fit(x_train,y_train,validation_data=(x_test,y_test), epochs=100)"
      ],
      "execution_count": null,
      "outputs": [
        {
          "output_type": "stream",
          "text": [
            "Epoch 1/100\n",
            "13/13 [==============================] - 1s 35ms/step - loss: 0.4434 - accuracy: 0.8432 - val_loss: 0.4155 - val_accuracy: 0.8772\n",
            "Epoch 2/100\n",
            "13/13 [==============================] - 0s 5ms/step - loss: 0.4346 - accuracy: 0.8585 - val_loss: 0.3863 - val_accuracy: 0.8889\n",
            "Epoch 3/100\n",
            "13/13 [==============================] - 0s 5ms/step - loss: 0.4160 - accuracy: 0.8444 - val_loss: 0.3605 - val_accuracy: 0.9006\n",
            "Epoch 4/100\n",
            "13/13 [==============================] - 0s 5ms/step - loss: 0.3460 - accuracy: 0.8952 - val_loss: 0.3382 - val_accuracy: 0.9064\n",
            "Epoch 5/100\n",
            "13/13 [==============================] - 0s 5ms/step - loss: 0.3305 - accuracy: 0.8963 - val_loss: 0.3191 - val_accuracy: 0.9064\n",
            "Epoch 6/100\n",
            "13/13 [==============================] - 0s 5ms/step - loss: 0.3074 - accuracy: 0.8996 - val_loss: 0.3022 - val_accuracy: 0.9240\n",
            "Epoch 7/100\n",
            "13/13 [==============================] - 0s 4ms/step - loss: 0.2900 - accuracy: 0.9180 - val_loss: 0.2865 - val_accuracy: 0.9240\n",
            "Epoch 8/100\n",
            "13/13 [==============================] - 0s 5ms/step - loss: 0.2842 - accuracy: 0.9095 - val_loss: 0.2724 - val_accuracy: 0.9240\n",
            "Epoch 9/100\n",
            "13/13 [==============================] - 0s 5ms/step - loss: 0.2784 - accuracy: 0.8974 - val_loss: 0.2599 - val_accuracy: 0.9357\n",
            "Epoch 10/100\n",
            "13/13 [==============================] - 0s 5ms/step - loss: 0.2674 - accuracy: 0.9148 - val_loss: 0.2487 - val_accuracy: 0.9357\n",
            "Epoch 11/100\n",
            "13/13 [==============================] - 0s 4ms/step - loss: 0.2576 - accuracy: 0.9116 - val_loss: 0.2385 - val_accuracy: 0.9415\n",
            "Epoch 12/100\n",
            "13/13 [==============================] - 0s 4ms/step - loss: 0.2318 - accuracy: 0.9201 - val_loss: 0.2296 - val_accuracy: 0.9415\n",
            "Epoch 13/100\n",
            "13/13 [==============================] - 0s 4ms/step - loss: 0.2433 - accuracy: 0.9164 - val_loss: 0.2209 - val_accuracy: 0.9415\n",
            "Epoch 14/100\n",
            "13/13 [==============================] - 0s 5ms/step - loss: 0.2254 - accuracy: 0.9214 - val_loss: 0.2132 - val_accuracy: 0.9474\n",
            "Epoch 15/100\n",
            "13/13 [==============================] - 0s 5ms/step - loss: 0.2107 - accuracy: 0.9425 - val_loss: 0.2060 - val_accuracy: 0.9532\n",
            "Epoch 16/100\n",
            "13/13 [==============================] - 0s 4ms/step - loss: 0.1887 - accuracy: 0.9487 - val_loss: 0.1995 - val_accuracy: 0.9532\n",
            "Epoch 17/100\n",
            "13/13 [==============================] - 0s 4ms/step - loss: 0.1865 - accuracy: 0.9549 - val_loss: 0.1934 - val_accuracy: 0.9591\n",
            "Epoch 18/100\n",
            "13/13 [==============================] - 0s 5ms/step - loss: 0.2117 - accuracy: 0.9317 - val_loss: 0.1878 - val_accuracy: 0.9649\n",
            "Epoch 19/100\n",
            "13/13 [==============================] - 0s 5ms/step - loss: 0.1721 - accuracy: 0.9488 - val_loss: 0.1830 - val_accuracy: 0.9649\n",
            "Epoch 20/100\n",
            "13/13 [==============================] - 0s 5ms/step - loss: 0.1880 - accuracy: 0.9350 - val_loss: 0.1782 - val_accuracy: 0.9649\n",
            "Epoch 21/100\n",
            "13/13 [==============================] - 0s 6ms/step - loss: 0.1934 - accuracy: 0.9560 - val_loss: 0.1739 - val_accuracy: 0.9649\n",
            "Epoch 22/100\n",
            "13/13 [==============================] - 0s 5ms/step - loss: 0.1777 - accuracy: 0.9459 - val_loss: 0.1698 - val_accuracy: 0.9649\n",
            "Epoch 23/100\n",
            "13/13 [==============================] - 0s 5ms/step - loss: 0.1623 - accuracy: 0.9680 - val_loss: 0.1660 - val_accuracy: 0.9649\n",
            "Epoch 24/100\n",
            "13/13 [==============================] - 0s 5ms/step - loss: 0.1485 - accuracy: 0.9657 - val_loss: 0.1624 - val_accuracy: 0.9649\n",
            "Epoch 25/100\n",
            "13/13 [==============================] - 0s 5ms/step - loss: 0.1536 - accuracy: 0.9673 - val_loss: 0.1591 - val_accuracy: 0.9649\n",
            "Epoch 26/100\n",
            "13/13 [==============================] - 0s 5ms/step - loss: 0.1504 - accuracy: 0.9585 - val_loss: 0.1561 - val_accuracy: 0.9649\n",
            "Epoch 27/100\n",
            "13/13 [==============================] - 0s 5ms/step - loss: 0.1635 - accuracy: 0.9501 - val_loss: 0.1531 - val_accuracy: 0.9649\n",
            "Epoch 28/100\n",
            "13/13 [==============================] - 0s 5ms/step - loss: 0.1494 - accuracy: 0.9607 - val_loss: 0.1504 - val_accuracy: 0.9649\n",
            "Epoch 29/100\n",
            "13/13 [==============================] - 0s 5ms/step - loss: 0.1469 - accuracy: 0.9592 - val_loss: 0.1478 - val_accuracy: 0.9649\n",
            "Epoch 30/100\n",
            "13/13 [==============================] - 0s 5ms/step - loss: 0.1497 - accuracy: 0.9548 - val_loss: 0.1453 - val_accuracy: 0.9649\n",
            "Epoch 31/100\n",
            "13/13 [==============================] - 0s 6ms/step - loss: 0.1511 - accuracy: 0.9516 - val_loss: 0.1428 - val_accuracy: 0.9649\n",
            "Epoch 32/100\n",
            "13/13 [==============================] - 0s 5ms/step - loss: 0.1522 - accuracy: 0.9560 - val_loss: 0.1406 - val_accuracy: 0.9649\n",
            "Epoch 33/100\n",
            "13/13 [==============================] - 0s 5ms/step - loss: 0.1351 - accuracy: 0.9635 - val_loss: 0.1384 - val_accuracy: 0.9649\n",
            "Epoch 34/100\n",
            "13/13 [==============================] - 0s 5ms/step - loss: 0.1466 - accuracy: 0.9620 - val_loss: 0.1363 - val_accuracy: 0.9649\n",
            "Epoch 35/100\n",
            "13/13 [==============================] - 0s 5ms/step - loss: 0.1422 - accuracy: 0.9662 - val_loss: 0.1344 - val_accuracy: 0.9649\n",
            "Epoch 36/100\n",
            "13/13 [==============================] - 0s 5ms/step - loss: 0.1275 - accuracy: 0.9692 - val_loss: 0.1326 - val_accuracy: 0.9649\n",
            "Epoch 37/100\n",
            "13/13 [==============================] - 0s 5ms/step - loss: 0.1197 - accuracy: 0.9739 - val_loss: 0.1309 - val_accuracy: 0.9708\n",
            "Epoch 38/100\n",
            "13/13 [==============================] - 0s 5ms/step - loss: 0.1371 - accuracy: 0.9682 - val_loss: 0.1291 - val_accuracy: 0.9708\n",
            "Epoch 39/100\n",
            "13/13 [==============================] - 0s 5ms/step - loss: 0.1337 - accuracy: 0.9653 - val_loss: 0.1275 - val_accuracy: 0.9708\n",
            "Epoch 40/100\n",
            "13/13 [==============================] - 0s 5ms/step - loss: 0.1259 - accuracy: 0.9702 - val_loss: 0.1260 - val_accuracy: 0.9708\n",
            "Epoch 41/100\n",
            "13/13 [==============================] - 0s 5ms/step - loss: 0.1487 - accuracy: 0.9501 - val_loss: 0.1245 - val_accuracy: 0.9708\n",
            "Epoch 42/100\n",
            "13/13 [==============================] - 0s 4ms/step - loss: 0.1209 - accuracy: 0.9661 - val_loss: 0.1231 - val_accuracy: 0.9708\n",
            "Epoch 43/100\n",
            "13/13 [==============================] - 0s 5ms/step - loss: 0.1253 - accuracy: 0.9666 - val_loss: 0.1218 - val_accuracy: 0.9708\n",
            "Epoch 44/100\n",
            "13/13 [==============================] - 0s 5ms/step - loss: 0.1218 - accuracy: 0.9677 - val_loss: 0.1204 - val_accuracy: 0.9708\n",
            "Epoch 45/100\n",
            "13/13 [==============================] - 0s 5ms/step - loss: 0.1243 - accuracy: 0.9690 - val_loss: 0.1191 - val_accuracy: 0.9708\n",
            "Epoch 46/100\n",
            "13/13 [==============================] - 0s 4ms/step - loss: 0.1485 - accuracy: 0.9467 - val_loss: 0.1178 - val_accuracy: 0.9708\n",
            "Epoch 47/100\n",
            "13/13 [==============================] - 0s 5ms/step - loss: 0.1282 - accuracy: 0.9650 - val_loss: 0.1166 - val_accuracy: 0.9708\n",
            "Epoch 48/100\n",
            "13/13 [==============================] - 0s 5ms/step - loss: 0.1140 - accuracy: 0.9644 - val_loss: 0.1155 - val_accuracy: 0.9708\n",
            "Epoch 49/100\n",
            "13/13 [==============================] - 0s 6ms/step - loss: 0.1138 - accuracy: 0.9764 - val_loss: 0.1144 - val_accuracy: 0.9708\n",
            "Epoch 50/100\n",
            "13/13 [==============================] - 0s 6ms/step - loss: 0.1180 - accuracy: 0.9659 - val_loss: 0.1133 - val_accuracy: 0.9708\n",
            "Epoch 51/100\n",
            "13/13 [==============================] - 0s 6ms/step - loss: 0.1094 - accuracy: 0.9709 - val_loss: 0.1123 - val_accuracy: 0.9708\n",
            "Epoch 52/100\n",
            "13/13 [==============================] - 0s 6ms/step - loss: 0.1126 - accuracy: 0.9755 - val_loss: 0.1112 - val_accuracy: 0.9708\n",
            "Epoch 53/100\n",
            "13/13 [==============================] - 0s 5ms/step - loss: 0.1106 - accuracy: 0.9700 - val_loss: 0.1103 - val_accuracy: 0.9708\n",
            "Epoch 54/100\n",
            "13/13 [==============================] - 0s 5ms/step - loss: 0.1055 - accuracy: 0.9772 - val_loss: 0.1093 - val_accuracy: 0.9766\n",
            "Epoch 55/100\n",
            "13/13 [==============================] - 0s 5ms/step - loss: 0.1133 - accuracy: 0.9672 - val_loss: 0.1084 - val_accuracy: 0.9766\n",
            "Epoch 56/100\n",
            "13/13 [==============================] - 0s 5ms/step - loss: 0.1177 - accuracy: 0.9561 - val_loss: 0.1077 - val_accuracy: 0.9766\n",
            "Epoch 57/100\n",
            "13/13 [==============================] - 0s 5ms/step - loss: 0.0982 - accuracy: 0.9804 - val_loss: 0.1068 - val_accuracy: 0.9766\n",
            "Epoch 58/100\n",
            "13/13 [==============================] - 0s 6ms/step - loss: 0.1034 - accuracy: 0.9665 - val_loss: 0.1060 - val_accuracy: 0.9825\n",
            "Epoch 59/100\n",
            "13/13 [==============================] - 0s 5ms/step - loss: 0.0984 - accuracy: 0.9689 - val_loss: 0.1052 - val_accuracy: 0.9825\n",
            "Epoch 60/100\n",
            "13/13 [==============================] - 0s 6ms/step - loss: 0.1095 - accuracy: 0.9691 - val_loss: 0.1044 - val_accuracy: 0.9766\n",
            "Epoch 61/100\n",
            "13/13 [==============================] - 0s 5ms/step - loss: 0.1173 - accuracy: 0.9669 - val_loss: 0.1038 - val_accuracy: 0.9766\n",
            "Epoch 62/100\n",
            "13/13 [==============================] - 0s 5ms/step - loss: 0.0891 - accuracy: 0.9820 - val_loss: 0.1031 - val_accuracy: 0.9766\n",
            "Epoch 63/100\n",
            "13/13 [==============================] - 0s 5ms/step - loss: 0.1033 - accuracy: 0.9625 - val_loss: 0.1023 - val_accuracy: 0.9766\n",
            "Epoch 64/100\n",
            "13/13 [==============================] - 0s 5ms/step - loss: 0.1025 - accuracy: 0.9739 - val_loss: 0.1015 - val_accuracy: 0.9766\n",
            "Epoch 65/100\n",
            "13/13 [==============================] - 0s 6ms/step - loss: 0.0872 - accuracy: 0.9805 - val_loss: 0.1009 - val_accuracy: 0.9766\n",
            "Epoch 66/100\n",
            "13/13 [==============================] - 0s 5ms/step - loss: 0.0922 - accuracy: 0.9728 - val_loss: 0.1002 - val_accuracy: 0.9766\n",
            "Epoch 67/100\n",
            "13/13 [==============================] - 0s 5ms/step - loss: 0.0991 - accuracy: 0.9772 - val_loss: 0.0996 - val_accuracy: 0.9766\n",
            "Epoch 68/100\n",
            "13/13 [==============================] - 0s 5ms/step - loss: 0.0939 - accuracy: 0.9745 - val_loss: 0.0989 - val_accuracy: 0.9766\n",
            "Epoch 69/100\n",
            "13/13 [==============================] - 0s 5ms/step - loss: 0.0954 - accuracy: 0.9725 - val_loss: 0.0983 - val_accuracy: 0.9766\n",
            "Epoch 70/100\n",
            "13/13 [==============================] - 0s 6ms/step - loss: 0.0996 - accuracy: 0.9631 - val_loss: 0.0977 - val_accuracy: 0.9766\n",
            "Epoch 71/100\n",
            "13/13 [==============================] - 0s 5ms/step - loss: 0.0940 - accuracy: 0.9776 - val_loss: 0.0971 - val_accuracy: 0.9766\n",
            "Epoch 72/100\n",
            "13/13 [==============================] - 0s 5ms/step - loss: 0.1051 - accuracy: 0.9673 - val_loss: 0.0965 - val_accuracy: 0.9766\n",
            "Epoch 73/100\n",
            "13/13 [==============================] - 0s 4ms/step - loss: 0.1148 - accuracy: 0.9639 - val_loss: 0.0960 - val_accuracy: 0.9766\n",
            "Epoch 74/100\n",
            "13/13 [==============================] - 0s 5ms/step - loss: 0.0836 - accuracy: 0.9782 - val_loss: 0.0955 - val_accuracy: 0.9766\n",
            "Epoch 75/100\n",
            "13/13 [==============================] - 0s 5ms/step - loss: 0.1131 - accuracy: 0.9652 - val_loss: 0.0950 - val_accuracy: 0.9766\n",
            "Epoch 76/100\n",
            "13/13 [==============================] - 0s 5ms/step - loss: 0.0901 - accuracy: 0.9794 - val_loss: 0.0945 - val_accuracy: 0.9766\n",
            "Epoch 77/100\n",
            "13/13 [==============================] - 0s 5ms/step - loss: 0.1085 - accuracy: 0.9662 - val_loss: 0.0941 - val_accuracy: 0.9766\n",
            "Epoch 78/100\n",
            "13/13 [==============================] - 0s 5ms/step - loss: 0.0829 - accuracy: 0.9742 - val_loss: 0.0936 - val_accuracy: 0.9766\n",
            "Epoch 79/100\n",
            "13/13 [==============================] - 0s 5ms/step - loss: 0.0865 - accuracy: 0.9768 - val_loss: 0.0931 - val_accuracy: 0.9766\n",
            "Epoch 80/100\n",
            "13/13 [==============================] - 0s 5ms/step - loss: 0.0950 - accuracy: 0.9758 - val_loss: 0.0926 - val_accuracy: 0.9766\n",
            "Epoch 81/100\n",
            "13/13 [==============================] - 0s 5ms/step - loss: 0.1018 - accuracy: 0.9656 - val_loss: 0.0922 - val_accuracy: 0.9766\n",
            "Epoch 82/100\n",
            "13/13 [==============================] - 0s 5ms/step - loss: 0.0843 - accuracy: 0.9742 - val_loss: 0.0918 - val_accuracy: 0.9766\n",
            "Epoch 83/100\n",
            "13/13 [==============================] - 0s 5ms/step - loss: 0.0882 - accuracy: 0.9748 - val_loss: 0.0913 - val_accuracy: 0.9766\n",
            "Epoch 84/100\n",
            "13/13 [==============================] - 0s 6ms/step - loss: 0.1064 - accuracy: 0.9673 - val_loss: 0.0909 - val_accuracy: 0.9766\n",
            "Epoch 85/100\n",
            "13/13 [==============================] - 0s 6ms/step - loss: 0.0916 - accuracy: 0.9737 - val_loss: 0.0905 - val_accuracy: 0.9766\n",
            "Epoch 86/100\n",
            "13/13 [==============================] - 0s 5ms/step - loss: 0.0966 - accuracy: 0.9681 - val_loss: 0.0902 - val_accuracy: 0.9766\n",
            "Epoch 87/100\n",
            "13/13 [==============================] - 0s 5ms/step - loss: 0.0934 - accuracy: 0.9771 - val_loss: 0.0896 - val_accuracy: 0.9766\n",
            "Epoch 88/100\n",
            "13/13 [==============================] - 0s 5ms/step - loss: 0.0866 - accuracy: 0.9787 - val_loss: 0.0892 - val_accuracy: 0.9766\n",
            "Epoch 89/100\n",
            "13/13 [==============================] - 0s 5ms/step - loss: 0.0852 - accuracy: 0.9757 - val_loss: 0.0890 - val_accuracy: 0.9766\n",
            "Epoch 90/100\n",
            "13/13 [==============================] - 0s 6ms/step - loss: 0.0846 - accuracy: 0.9767 - val_loss: 0.0887 - val_accuracy: 0.9766\n",
            "Epoch 91/100\n",
            "13/13 [==============================] - 0s 5ms/step - loss: 0.0867 - accuracy: 0.9784 - val_loss: 0.0884 - val_accuracy: 0.9766\n",
            "Epoch 92/100\n",
            "13/13 [==============================] - 0s 5ms/step - loss: 0.0990 - accuracy: 0.9665 - val_loss: 0.0881 - val_accuracy: 0.9825\n",
            "Epoch 93/100\n",
            "13/13 [==============================] - 0s 5ms/step - loss: 0.0815 - accuracy: 0.9850 - val_loss: 0.0876 - val_accuracy: 0.9825\n",
            "Epoch 94/100\n",
            "13/13 [==============================] - 0s 5ms/step - loss: 0.0898 - accuracy: 0.9689 - val_loss: 0.0873 - val_accuracy: 0.9825\n",
            "Epoch 95/100\n",
            "13/13 [==============================] - 0s 5ms/step - loss: 0.0962 - accuracy: 0.9681 - val_loss: 0.0870 - val_accuracy: 0.9825\n",
            "Epoch 96/100\n",
            "13/13 [==============================] - 0s 5ms/step - loss: 0.0846 - accuracy: 0.9809 - val_loss: 0.0867 - val_accuracy: 0.9825\n",
            "Epoch 97/100\n",
            "13/13 [==============================] - 0s 5ms/step - loss: 0.0921 - accuracy: 0.9771 - val_loss: 0.0864 - val_accuracy: 0.9825\n",
            "Epoch 98/100\n",
            "13/13 [==============================] - 0s 5ms/step - loss: 0.0847 - accuracy: 0.9771 - val_loss: 0.0862 - val_accuracy: 0.9825\n",
            "Epoch 99/100\n",
            "13/13 [==============================] - 0s 5ms/step - loss: 0.0930 - accuracy: 0.9803 - val_loss: 0.0859 - val_accuracy: 0.9825\n",
            "Epoch 100/100\n",
            "13/13 [==============================] - 0s 5ms/step - loss: 0.0879 - accuracy: 0.9780 - val_loss: 0.0855 - val_accuracy: 0.9825\n"
          ],
          "name": "stdout"
        }
      ]
    },
    {
      "cell_type": "code",
      "metadata": {
        "id": "d8I60xXi3NL5"
      },
      "source": [
        ""
      ],
      "execution_count": null,
      "outputs": []
    },
    {
      "cell_type": "code",
      "metadata": {
        "colab": {
          "base_uri": "https://localhost:8080/"
        },
        "id": "HtttFkbY2Qrv",
        "outputId": "22f9aa48-9e99-4f38-901b-b984d50b68e9"
      },
      "source": [
        "print(\"train score:\",model.evaluate(x_train,y_train))\n",
        "print(\"test score\", model.evaluate(x_test,y_test))"
      ],
      "execution_count": null,
      "outputs": [
        {
          "output_type": "stream",
          "text": [
            "13/13 [==============================] - 0s 1ms/step - loss: 0.0833 - accuracy: 0.9799\n",
            "train score: [0.08329147845506668, 0.979899525642395]\n",
            "6/6 [==============================] - 0s 2ms/step - loss: 0.0855 - accuracy: 0.9825\n",
            "test score [0.08554494380950928, 0.9824561476707458]\n"
          ],
          "name": "stdout"
        }
      ]
    },
    {
      "cell_type": "code",
      "metadata": {
        "colab": {
          "base_uri": "https://localhost:8080/",
          "height": 282
        },
        "id": "JzdZ31AI3Ogp",
        "outputId": "69ba3d09-fa2d-43c2-97b7-0ef4dff02e8d"
      },
      "source": [
        "#since model.fit returns an object that contain the data from trianing process, lets calculate loss per iteration\n",
        "import matplotlib.pyplot as plt\n",
        "plt.plot(r.history['loss'],label='loss')\n",
        "plt.plot(r.history['val_loss'],label='val')\n",
        "plt.legend() #there is steady decrease in loss per iteration aa expected"
      ],
      "execution_count": null,
      "outputs": [
        {
          "output_type": "execute_result",
          "data": {
            "text/plain": [
              "<matplotlib.legend.Legend at 0x7f47f802f290>"
            ]
          },
          "metadata": {
            "tags": []
          },
          "execution_count": 23
        },
        {
          "output_type": "display_data",
          "data": {
            "image/png": "[encoded data removed]",
            "text/plain": [
              "<Figure size 432x288 with 1 Axes>"
            ]
          },
          "metadata": {
            "tags": [],
            "needs_background": "light"
          }
        }
      ]
    },
    {
      "cell_type": "code",
      "metadata": {
        "colab": {
          "base_uri": "https://localhost:8080/",
          "height": 282
        },
        "id": "K8nae3jm4aI0",
        "outputId": "5281007a-f78a-42e9-ee64-6d71b0970ca1"
      },
      "source": [
        "plt.plot(r.history['accuracy'],label='accuracy')\n",
        "plt.plot(r.history['val_accuracy'],label='val-acc')\n",
        "plt.legend()"
      ],
      "execution_count": null,
      "outputs": [
        {
          "output_type": "execute_result",
          "data": {
            "text/plain": [
              "<matplotlib.legend.Legend at 0x7f47f908c350>"
            ]
          },
          "metadata": {
            "tags": []
          },
          "execution_count": 24
        },
        {
          "output_type": "display_data",
          "data": {
            "image/png": "[encoded data removed]",
            "text/plain": [
              "<Figure size 432x288 with 1 Axes>"
            ]
          },
          "metadata": {
            "tags": [],
            "needs_background": "light"
          }
        }
      ]
    },
    {
      "cell_type": "markdown",
      "metadata": {
        "id": "QZpTowtHF5tb"
      },
      "source": [
        "linear regression"
      ]
    },
    {
      "cell_type": "code",
      "metadata": {
        "id": "6EDFdFW1GTDP"
      },
      "source": [
        "import numpy as np\n",
        "import pandas as pd\n",
        "import matplotlib.pyplot as plt\n"
      ],
      "execution_count": null,
      "outputs": []
    },
    {
      "cell_type": "markdown",
      "metadata": {
        "id": "R5o2ZtfEJtSr"
      },
      "source": [
        "# **model** **pridiction** "
      ]
    },
    {
      "cell_type": "code",
      "metadata": {
        "id": "BhPVa5DRLNJx"
      },
      "source": [
        ""
      ],
      "execution_count": null,
      "outputs": []
    },
    {
      "cell_type": "code",
      "metadata": {
        "colab": {
          "base_uri": "https://localhost:8080/"
        },
        "id": "RbzdlDbZJ2RG",
        "outputId": "7d4e261d-b767-4cf6-fb5c-9dde4b30fdbf"
      },
      "source": [
        "p=model.predict(x_test) #make pridiction of model, modelare usefull as they can be used to make pridiction for future for data you have never seen before\n",
        "#fit is basically loop the gradeint descent\n",
        "#for pridiction of linear we use y=wtx+b and for logistic we use sigmoid of wtx+b\n",
        "print(p)"
      ],
      "execution_count": null,
      "outputs": [
        {
          "output_type": "stream",
          "text": [
            "[[9.49749351e-01]\n",
            " [1.57829225e-02]\n",
            " [7.77714158e-05]\n",
            " [8.67414951e-01]\n",
            " [9.97849941e-01]\n",
            " [9.54482913e-01]\n",
            " [9.95328546e-01]\n",
            " [9.94712651e-01]\n",
            " [6.64066802e-09]\n",
            " [9.97568667e-01]\n",
            " [9.27826285e-01]\n",
            " [8.75897348e-01]\n",
            " [9.98300314e-01]\n",
            " [9.98189569e-01]\n",
            " [2.49028206e-04]\n",
            " [9.99946833e-01]\n",
            " [9.99307275e-01]\n",
            " [9.90229368e-01]\n",
            " [2.08735637e-05]\n",
            " [9.92554128e-01]\n",
            " [9.98899400e-01]\n",
            " [9.99128520e-01]\n",
            " [9.91148353e-01]\n",
            " [9.99049425e-01]\n",
            " [1.07933760e-01]\n",
            " [9.98121381e-01]\n",
            " [9.96439457e-01]\n",
            " [9.73945260e-01]\n",
            " [9.98454332e-01]\n",
            " [9.98466194e-01]\n",
            " [9.96705532e-01]\n",
            " [9.91103351e-01]\n",
            " [9.94873881e-01]\n",
            " [4.38580318e-11]\n",
            " [2.12268751e-05]\n",
            " [9.99947548e-01]\n",
            " [9.34831321e-01]\n",
            " [4.40251370e-06]\n",
            " [1.51388645e-02]\n",
            " [9.97574925e-01]\n",
            " [5.86614013e-01]\n",
            " [9.81855750e-01]\n",
            " [2.47061253e-04]\n",
            " [8.77763987e-01]\n",
            " [9.64463353e-01]\n",
            " [2.19748914e-02]\n",
            " [5.34701176e-05]\n",
            " [7.87547350e-01]\n",
            " [9.76881027e-01]\n",
            " [9.22394753e-01]\n",
            " [2.63214111e-04]\n",
            " [5.22607386e-01]\n",
            " [9.98646140e-01]\n",
            " [1.03315711e-03]\n",
            " [1.48266554e-03]\n",
            " [9.34548020e-01]\n",
            " [1.22314692e-03]\n",
            " [2.99352068e-05]\n",
            " [9.79335546e-01]\n",
            " [5.24301231e-02]\n",
            " [1.13053799e-01]\n",
            " [1.77104771e-02]\n",
            " [9.99692321e-01]\n",
            " [9.02819157e-01]\n",
            " [9.99797344e-01]\n",
            " [6.98786378e-02]\n",
            " [9.97567186e-05]\n",
            " [9.97777045e-01]\n",
            " [8.53636563e-02]\n",
            " [9.91047978e-01]\n",
            " [9.96793628e-01]\n",
            " [9.94384110e-01]\n",
            " [8.03747773e-01]\n",
            " [5.25567891e-08]\n",
            " [2.86006331e-02]\n",
            " [3.35260165e-06]\n",
            " [9.99449968e-01]\n",
            " [8.82002711e-03]\n",
            " [1.39909685e-02]\n",
            " [3.81863117e-03]\n",
            " [9.99809682e-01]\n",
            " [9.97607768e-01]\n",
            " [9.94210780e-01]\n",
            " [1.38074756e-06]\n",
            " [9.96302843e-01]\n",
            " [1.61179632e-01]\n",
            " [2.24822462e-01]\n",
            " [1.64467096e-02]\n",
            " [9.75695372e-01]\n",
            " [9.24748421e-01]\n",
            " [6.34130345e-07]\n",
            " [9.99818027e-01]\n",
            " [9.39270794e-01]\n",
            " [1.52418524e-01]\n",
            " [9.59003925e-01]\n",
            " [4.28754211e-05]\n",
            " [5.18535972e-02]\n",
            " [9.98579204e-01]\n",
            " [5.20977378e-03]\n",
            " [4.19527292e-04]\n",
            " [7.13700950e-02]\n",
            " [9.91258025e-01]\n",
            " [9.03066754e-01]\n",
            " [9.99527454e-01]\n",
            " [1.58147812e-02]\n",
            " [3.60420049e-09]\n",
            " [8.19863081e-02]\n",
            " [1.17139840e-04]\n",
            " [8.28798890e-01]\n",
            " [8.99274455e-05]\n",
            " [3.96814415e-10]\n",
            " [1.16201967e-01]\n",
            " [1.98414922e-03]\n",
            " [9.52686489e-01]\n",
            " [9.98355627e-01]\n",
            " [9.94692266e-01]\n",
            " [8.07936907e-01]\n",
            " [2.08348036e-04]\n",
            " [9.54042792e-01]\n",
            " [3.63069921e-05]\n",
            " [6.38455153e-04]\n",
            " [9.64730263e-01]\n",
            " [9.98364687e-01]\n",
            " [9.99655247e-01]\n",
            " [9.20683146e-04]\n",
            " [9.74684238e-01]\n",
            " [9.92197752e-01]\n",
            " [9.99219358e-01]\n",
            " [9.99848723e-01]\n",
            " [6.79185814e-06]\n",
            " [7.38058805e-01]\n",
            " [4.87059355e-04]\n",
            " [8.29533339e-01]\n",
            " [7.15426922e-01]\n",
            " [4.26945984e-02]\n",
            " [9.95785773e-01]\n",
            " [9.99527574e-01]\n",
            " [9.97633040e-01]\n",
            " [9.97189283e-01]\n",
            " [9.99348164e-01]\n",
            " [8.12101126e-01]\n",
            " [5.94448745e-02]\n",
            " [8.16946745e-01]\n",
            " [9.97634351e-01]\n",
            " [9.99212742e-01]\n",
            " [2.94741988e-02]\n",
            " [7.41101682e-01]\n",
            " [5.18808663e-02]\n",
            " [1.25839591e-01]\n",
            " [9.96219695e-01]\n",
            " [9.66470122e-01]\n",
            " [9.96557236e-01]\n",
            " [5.12834311e-01]\n",
            " [7.98364580e-01]\n",
            " [4.38765824e-01]\n",
            " [9.67103660e-01]\n",
            " [6.24971586e-09]\n",
            " [1.63408518e-02]\n",
            " [9.75094736e-01]\n",
            " [4.07390118e-01]\n",
            " [9.33253407e-01]\n",
            " [4.06052768e-02]\n",
            " [9.84015822e-01]\n",
            " [9.96133327e-01]\n",
            " [9.51985896e-01]\n",
            " [9.99389827e-01]\n",
            " [1.41343474e-03]\n",
            " [9.17963624e-01]\n",
            " [8.98951292e-01]\n",
            " [9.84973073e-01]\n",
            " [9.95591164e-01]]\n"
          ],
          "name": "stdout"
        }
      ]
    },
    {
      "cell_type": "code",
      "metadata": {
        "colab": {
          "base_uri": "https://localhost:8080/"
        },
        "id": "BeaL9KOqL8Mg",
        "outputId": "c1dc5d7e-57b5-4fd0-b48c-f1deb9225b2c"
      },
      "source": [
        "P= np.round(p).flatten()\n",
        "print(P)"
      ],
      "execution_count": null,
      "outputs": [
        {
          "output_type": "stream",
          "text": [
            "[1. 0. 0. 1. 1. 1. 1. 1. 0. 1. 1. 1. 1. 1. 0. 1. 1. 1. 0. 1. 1. 1. 1. 1.\n",
            " 0. 1. 1. 1. 1. 1. 1. 1. 1. 0. 0. 1. 1. 0. 0. 1. 1. 1. 0. 1. 1. 0. 0. 1.\n",
            " 1. 1. 0. 1. 1. 0. 0. 1. 0. 0. 1. 0. 0. 0. 1. 1. 1. 0. 0. 1. 0. 1. 1. 1.\n",
            " 1. 0. 0. 0. 1. 0. 0. 0. 1. 1. 1. 0. 1. 0. 0. 0. 1. 1. 0. 1. 1. 0. 1. 0.\n",
            " 0. 1. 0. 0. 0. 1. 1. 1. 0. 0. 0. 0. 1. 0. 0. 0. 0. 1. 1. 1. 1. 0. 1. 0.\n",
            " 0. 1. 1. 1. 0. 1. 1. 1. 1. 0. 1. 0. 1. 1. 0. 1. 1. 1. 1. 1. 1. 0. 1. 1.\n",
            " 1. 0. 1. 0. 0. 1. 1. 1. 1. 1. 0. 1. 0. 0. 1. 0. 1. 0. 1. 1. 1. 1. 0. 1.\n",
            " 1. 1. 1.]\n"
          ],
          "name": "stdout"
        }
      ]
    },
    {
      "cell_type": "code",
      "metadata": {
        "id": "qUZkeRh4LN1_"
      },
      "source": [
        "model.save('linearclassification.h5')"
      ],
      "execution_count": null,
      "outputs": []
    },
    {
      "cell_type": "code",
      "metadata": {
        "colab": {
          "base_uri": "https://localhost:8080/"
        },
        "id": "FvL3UDohL4U9",
        "outputId": "24f737ee-6720-4dd3-985c-e72ba737ffac"
      },
      "source": [
        "!ls -1h"
      ],
      "execution_count": null,
      "outputs": [
        {
          "output_type": "stream",
          "text": [
            "linearclassification.h5\n",
            "sample_data\n"
          ],
          "name": "stdout"
        }
      ]
    },
    {
      "cell_type": "code",
      "metadata": {
        "colab": {
          "base_uri": "https://localhost:8080/"
        },
        "id": "yqmMi3RIL_ux",
        "outputId": "a1ed5dd9-602c-4361-b488-9cb1ce2edfe3"
      },
      "source": [
        "ls\n"
      ],
      "execution_count": null,
      "outputs": [
        {
          "output_type": "stream",
          "text": [
            "linearclassification.h5  \u001b[0m\u001b[01;34msample_data\u001b[0m/\n"
          ],
          "name": "stdout"
        }
      ]
    },
    {
      "cell_type": "code",
      "metadata": {
        "colab": {
          "base_uri": "https://localhost:8080/"
        },
        "id": "pZZ2lwokMVji",
        "outputId": "1c0c1b12-3e88-44e7-a7d9-9064fde3fdb3"
      },
      "source": [
        "model = tf.keras.models.load_model('linearclassification.h5') #you have saved the model\n",
        "print(model.layers)\n",
        "model.evaluate(x_test,y_test)"
      ],
      "execution_count": null,
      "outputs": [
        {
          "output_type": "stream",
          "text": [
            "[<tensorflow.python.keras.layers.core.Dense object at 0x7f47f69ed750>]\n",
            "6/6 [==============================] - 0s 2ms/step - loss: 0.0855 - accuracy: 0.9825\n"
          ],
          "name": "stdout"
        },
        {
          "output_type": "execute_result",
          "data": {
            "text/plain": [
              "[0.08554494380950928, 0.9824561476707458]"
            ]
          },
          "metadata": {
            "tags": []
          },
          "execution_count": 34
        }
      ]
    },
    {
      "cell_type": "code",
      "metadata": {
        "id": "XijFX-BlNH99"
      },
      "source": [
        "#how to share the model with others"
      ],
      "execution_count": null,
      "outputs": []
    }
  ]
}